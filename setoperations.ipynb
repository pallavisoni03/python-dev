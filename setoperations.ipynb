{
  "nbformat": 4,
  "nbformat_minor": 0,
  "metadata": {
    "colab": {
      "provenance": [],
      "authorship_tag": "ABX9TyM62Dmp4F1FJQsCrmOawa7c",
      "include_colab_link": true
    },
    "kernelspec": {
      "name": "python3",
      "display_name": "Python 3"
    },
    "language_info": {
      "name": "python"
    }
  },
  "cells": [
    {
      "cell_type": "markdown",
      "metadata": {
        "id": "view-in-github",
        "colab_type": "text"
      },
      "source": [
        "<a href=\"https://colab.research.google.com/github/pallavisoni03/python-dev/blob/main/setoperations.ipynb\" target=\"_parent\"><img src=\"https://colab.research.google.com/assets/colab-badge.svg\" alt=\"Open In Colab\"/></a>"
      ]
    },
    {
      "cell_type": "code",
      "execution_count": 6,
      "metadata": {
        "colab": {
          "base_uri": "https://localhost:8080/"
        },
        "id": "SiAnBUu-YLDz",
        "outputId": "78f5442c-8254-4db0-8813-013e9bd3c824"
      },
      "outputs": [
        {
          "output_type": "stream",
          "name": "stdout",
          "text": [
            "set() set()\n",
            "{1, 2, 3, 4, 5, 6, 7, 8, 9}\n",
            "{3, 4, 5, 6, 7, 8, 9}\n",
            "{1, 2, 3, 4, 5, 6, 7, 8, 9}\n"
          ]
        }
      ],
      "source": [
        "set1 = set()\n",
        "set2 = set()\n",
        "print(set1, set2)\n",
        "\n",
        "# adding values in set 1\n",
        "for i in range(1, 10):\n",
        "  set1.add(i)\n",
        "\n",
        "\n",
        "print(set1)\n",
        "\n",
        "# adding values in set 1\n",
        "for i in range (3, 10):\n",
        "  set2.add(i)\n",
        "\n",
        "print(set2)\n",
        "\n",
        "# union of 2 sets\n",
        "\n",
        "set3 = set1 | set2\n",
        "\n",
        "print(set3)"
      ]
    }
  ]
}