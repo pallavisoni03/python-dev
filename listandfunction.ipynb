{
  "nbformat": 4,
  "nbformat_minor": 0,
  "metadata": {
    "colab": {
      "provenance": [],
      "authorship_tag": "ABX9TyOGTxjXRjeg1sDpngqcOEih",
      "include_colab_link": true
    },
    "kernelspec": {
      "name": "python3",
      "display_name": "Python 3"
    },
    "language_info": {
      "name": "python"
    }
  },
  "cells": [
    {
      "cell_type": "markdown",
      "metadata": {
        "id": "view-in-github",
        "colab_type": "text"
      },
      "source": [
        "<a href=\"https://colab.research.google.com/github/pallavisoni03/python-dev/blob/main/listandfunction.ipynb\" target=\"_parent\"><img src=\"https://colab.research.google.com/assets/colab-badge.svg\" alt=\"Open In Colab\"/></a>"
      ]
    },
    {
      "cell_type": "code",
      "execution_count": 4,
      "metadata": {
        "colab": {
          "base_uri": "https://localhost:8080/"
        },
        "id": "C0Gu8-SmItFR",
        "outputId": "8188df4b-c646-47a7-e83d-a03fd7b8ab19"
      },
      "outputs": [
        {
          "output_type": "stream",
          "name": "stdout",
          "text": [
            "['abcd', 'eff', 'hijkl', 'lmit']\n",
            "['abcd', 'eff', 'hijkl', 'lmit']\n",
            "abcd\n",
            "abcd\n",
            "eff\n",
            "eff\n",
            "hijkl\n",
            "hijkl\n",
            "lmit\n",
            "lmit\n",
            "['abcd', 'eff', 'hijkl', 'lmit']\n"
          ]
        }
      ],
      "source": [
        "strlist = ['abcd', 'eff','hijkl','lmit']\n",
        "\n",
        "def func(l):\n",
        "  print(l)\n",
        "  # l.sort(reverse = True)\n",
        "  print(l)\n",
        "  return l[-1]\n",
        "\n",
        "func(strlist)\n",
        "print(sorted(strlist, key = func))\n"
      ]
    }
  ]
}